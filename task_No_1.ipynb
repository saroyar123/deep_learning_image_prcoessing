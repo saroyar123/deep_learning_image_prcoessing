{
  "nbformat": 4,
  "nbformat_minor": 0,
  "metadata": {
    "colab": {
      "provenance": [],
      "authorship_tag": "ABX9TyO1nFkFu4RyyNwQdG7e/CKu",
      "include_colab_link": true
    },
    "kernelspec": {
      "name": "python3",
      "display_name": "Python 3"
    },
    "language_info": {
      "name": "python"
    }
  },
  "cells": [
    {
      "cell_type": "markdown",
      "metadata": {
        "id": "view-in-github",
        "colab_type": "text"
      },
      "source": [
        "<a href=\"https://colab.research.google.com/github/saroyar123/deep_learning_image_prcoessing/blob/main/task_No_1.ipynb\" target=\"_parent\"><img src=\"https://colab.research.google.com/assets/colab-badge.svg\" alt=\"Open In Colab\"/></a>"
      ]
    },
    {
      "cell_type": "code",
      "execution_count": null,
      "metadata": {
        "id": "CLOVuf9BnZLe"
      },
      "outputs": [],
      "source": [
        "import os\n",
        "import torch\n",
        "import torchvision\n",
        "import tarfile\n",
        "from torchvision.datasets.utils import download_url\n",
        "from torch.utils.data import random_split\n",
        "import zipfile\n",
        "from PIL import Image\n",
        "import torchvision.transforms as transforms\n",
        "import numpy as np"
      ]
    },
    {
      "cell_type": "code",
      "source": [
        "dataset_url = \"https://warwick.ac.uk/fac/cross_fac/tia/data/glascontest/download/warwick_qu_dataset_released_2016_07_08.zip\"\n",
        "download_url(dataset_url, '.')"
      ],
      "metadata": {
        "colab": {
          "base_uri": "https://localhost:8080/"
        },
        "id": "YEM4kX3lnmye",
        "outputId": "b26cb629-5a85-47fb-9f4e-c9f487718bc6"
      },
      "execution_count": null,
      "outputs": [
        {
          "output_type": "stream",
          "name": "stdout",
          "text": [
            "Downloading https://warwick.ac.uk/fac/cross_fac/tia/data/glascontest/download/warwick_qu_dataset_released_2016_07_08.zip to ./warwick_qu_dataset_released_2016_07_08.zip\n"
          ]
        },
        {
          "output_type": "stream",
          "name": "stderr",
          "text": [
            "100%|██████████| 180902609/180902609 [00:19<00:00, 9277791.48it/s] \n"
          ]
        }
      ]
    },
    {
      "cell_type": "code",
      "source": [
        "zip_file_path=\"/content/warwick_qu_dataset_released_2016_07_08.zip\"\n",
        "unjip_path=\"/content/warwick_data\"\n",
        "\n",
        "# Open the zip file\n",
        "with zipfile.ZipFile(zip_file_path, 'r') as zip_ref:\n",
        "    # Extract all the contents of the zip file to the output folder\n",
        "    zip_ref.extractall(unjip_path)"
      ],
      "metadata": {
        "id": "C5Cq5up2nzZA"
      },
      "execution_count": null,
      "outputs": []
    },
    {
      "cell_type": "code",
      "source": [
        "\n",
        "data_dir = \"/content/warwick_data/Warwick QU Dataset (Released 2016_07_08)\"\n",
        "\n",
        "files = os.listdir(data_dir)\n",
        "\n",
        "test_files = [file for file in files if file.startswith('test')]\n",
        "train_files=[file for file in files if file.startswith('train')]\n",
        "\n",
        "print(test_files)\n",
        "print(train_files)"
      ],
      "metadata": {
        "id": "lIggg9BmXcAc"
      },
      "execution_count": null,
      "outputs": []
    },
    {
      "cell_type": "code",
      "source": [
        "transform = transforms.Compose([\n",
        "    transforms.Resize((224, 224)),\n",
        "    transforms.Grayscale(num_output_channels=3),\n",
        "    transforms.ToTensor(),\n",
        "    transforms.Normalize(mean=[0.5, 0.5, 0.5], std=[0.5, 0.5, 0.5])\n",
        "])\n",
        "\n",
        "test_data = []\n",
        "for file in test_files:\n",
        "    file_path = os.path.join(data_dir, file)\n",
        "    image = Image.open(file_path)\n",
        "    transformed_image = transform(image)\n",
        "    test_data.append(transformed_image)\n",
        "\n",
        "\n",
        "train_data=[]\n",
        "for file in train_files:\n",
        "  file_path=os.path.join(data_dir,file)\n",
        "  image=Image.open(file_path)\n",
        "  transformed_image=transform(image)\n",
        "  train_data.append(transformed_image)\n",
        "\n",
        "print(test_data[:5])\n",
        "print(train_data[:5])"
      ],
      "metadata": {
        "id": "LiXvEwz6VWI6"
      },
      "execution_count": null,
      "outputs": []
    },
    {
      "cell_type": "code",
      "source": [
        "import matplotlib.pyplot as plt\n",
        "%matplotlib inline"
      ],
      "metadata": {
        "id": "jnhtkSynYM9n"
      },
      "execution_count": null,
      "outputs": []
    },
    {
      "cell_type": "code",
      "source": [
        "print(test_data[0])"
      ],
      "metadata": {
        "id": "1gqYnXTNX--P"
      },
      "execution_count": null,
      "outputs": []
    },
    {
      "cell_type": "code",
      "source": [
        "print(test_data[0].shape)"
      ],
      "metadata": {
        "colab": {
          "base_uri": "https://localhost:8080/"
        },
        "id": "hL2QodDlZJ1s",
        "outputId": "54151137-fff0-44da-c2c7-32599577ba29"
      },
      "execution_count": null,
      "outputs": [
        {
          "output_type": "stream",
          "name": "stdout",
          "text": [
            "torch.Size([3, 224, 224])\n"
          ]
        }
      ]
    },
    {
      "cell_type": "code",
      "source": [
        "plt.imshow(test_data[0][0,10:15,10:15], cmap='red');"
      ],
      "metadata": {
        "id": "SHD3pkPFZQ17"
      },
      "execution_count": null,
      "outputs": []
    },
    {
      "cell_type": "code",
      "source": [
        "plt.imshow(test_data[0][1,:100,:100], cmap='Accent');"
      ],
      "metadata": {
        "colab": {
          "base_uri": "https://localhost:8080/",
          "height": 433
        },
        "id": "dZFbGx4yZuij",
        "outputId": "3e293afa-6da5-4e1f-a90b-f46994a59fcf"
      },
      "execution_count": null,
      "outputs": [
        {
          "output_type": "display_data",
          "data": {
            "text/plain": [
              "<Figure size 640x480 with 1 Axes>"
            ],
            "image/png": "[encoded data removed]"
          },
          "metadata": {}
        }
      ]
    },
    {
      "cell_type": "code",
      "source": [],
      "metadata": {
        "id": "DGqLS0-KZ956"
      },
      "execution_count": null,
      "outputs": []
    }
  ]
}