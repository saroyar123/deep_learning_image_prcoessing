{
  "nbformat": 4,
  "nbformat_minor": 0,
  "metadata": {
    "colab": {
      "provenance": [],
      "authorship_tag": "ABX9TyO1nFkFu4RyyNwQdG7e/CKu",
      "include_colab_link": true
    },
    "kernelspec": {
      "name": "python3",
      "display_name": "Python 3"
    },
    "language_info": {
      "name": "python"
    }
  },
  "cells": [
    {
      "cell_type": "markdown",
      "metadata": {
        "id": "view-in-github",
        "colab_type": "text"
      },
      "source": [
        "<a href=\"https://colab.research.google.com/github/saroyar123/deep_learning_image_prcoessing/blob/main/task_No_1.ipynb\" target=\"_parent\"><img src=\"https://colab.research.google.com/assets/colab-badge.svg\" alt=\"Open In Colab\"/></a>"
      ]
    },
    {
      "cell_type": "code",
      "execution_count": null,
      "metadata": {
        "id": "CLOVuf9BnZLe"
      },
      "outputs": [],
      "source": [
        "import os\n",
        "import torch\n",
        "import torchvision\n",
        "import tarfile\n",
        "from torchvision.datasets.utils import download_url\n",
        "from torch.utils.data import random_split\n",
        "import zipfile\n",
        "from PIL import Image\n",
        "import torchvision.transforms as transforms\n",
        "import numpy as np"
      ]
    },
    {
      "cell_type": "code",
      "source": [
        "dataset_url = \"https://warwick.ac.uk/fac/cross_fac/tia/data/glascontest/download/warwick_qu_dataset_released_2016_07_08.zip\"\n",
        "download_url(dataset_url, '.')"
      ],
      "metadata": {
        "colab": {
          "base_uri": "https://localhost:8080/"
        },
        "id": "YEM4kX3lnmye",
        "outputId": "b26cb629-5a85-47fb-9f4e-c9f487718bc6"
      },
      "execution_count": null,
      "outputs": [
        {
          "output_type": "stream",
          "name": "stdout",
          "text": [
            "Downloading https://warwick.ac.uk/fac/cross_fac/tia/data/glascontest/download/warwick_qu_dataset_released_2016_07_08.zip to ./warwick_qu_dataset_released_2016_07_08.zip\n"
          ]
        },
        {
          "output_type": "stream",
          "name": "stderr",
          "text": [
            "100%|██████████| 180902609/180902609 [00:19<00:00, 9277791.48it/s] \n"
          ]
        }
      ]
    },
    {
      "cell_type": "code",
      "source": [
        "zip_file_path=\"/content/warwick_qu_dataset_released_2016_07_08.zip\"\n",
        "unjip_path=\"/content/warwick_data\"\n",
        "\n",
        "# Open the zip file\n",
        "with zipfile.ZipFile(zip_file_path, 'r') as zip_ref:\n",
        "    # Extract all the contents of the zip file to the output folder\n",
        "    zip_ref.extractall(unjip_path)"
      ],
      "metadata": {
        "id": "C5Cq5up2nzZA"
      },
      "execution_count": null,
      "outputs": []
    },
    {
      "cell_type": "code",
      "source": [
        "\n",
        "data_dir = \"/content/warwick_data/Warwick QU Dataset (Released 2016_07_08)\"\n",
        "\n",
        "files = os.listdir(data_dir)\n",
        "\n",
        "test_files = [file for file in files if file.startswith('test')]\n",
        "train_files=[file for file in files if file.startswith('train')]\n",
        "\n",
        "print(test_files)\n",
        "print(train_files)"
      ],
      "metadata": {
        "colab": {
          "base_uri": "https://localhost:8080/"
        },
        "id": "lIggg9BmXcAc",
        "outputId": "c331828b-7e37-4dae-98e5-6436d69eb2ed"
      },
      "execution_count": null,
      "outputs": [
        {
          "output_type": "stream",
          "name": "stdout",
          "text": [
            "['testA_18_anno.bmp', 'testA_31.bmp', 'testB_7_anno.bmp', 'testA_21.bmp', 'testA_9.bmp', 'testA_55.bmp', 'testA_24_anno.bmp', 'testA_15.bmp', 'testA_33.bmp', 'testA_32.bmp', 'testA_48_anno.bmp', 'testA_3_anno.bmp', 'testB_18.bmp', 'testA_54_anno.bmp', 'testB_3_anno.bmp', 'testB_19.bmp', 'testA_17_anno.bmp', 'testA_45_anno.bmp', 'testA_14.bmp', 'testA_8_anno.bmp', 'testA_4.bmp', 'testA_35.bmp', 'testB_18_anno.bmp', 'testA_7_anno.bmp', 'testA_37_anno.bmp', 'testA_26.bmp', 'testB_10_anno.bmp', 'testA_43_anno.bmp', 'testA_52.bmp', 'testA_38_anno.bmp', 'testA_30_anno.bmp', 'testB_13.bmp', 'testA_47_anno.bmp', 'testA_60.bmp', 'testA_12_anno.bmp', 'testA_34.bmp', 'testA_1_anno.bmp', 'testA_42.bmp', 'testB_8.bmp', 'testB_2_anno.bmp', 'testA_16_anno.bmp', 'testB_8_anno.bmp', 'testA_7.bmp', 'testB_1.bmp', 'testA_53_anno.bmp', 'testB_15_anno.bmp', 'testB_12_anno.bmp', 'testB_11.bmp', 'testB_5_anno.bmp', 'testA_42_anno.bmp', 'testA_53.bmp', 'testA_21_anno.bmp', 'testA_56_anno.bmp', 'testB_13_anno.bmp', 'testA_38.bmp', 'testA_4_anno.bmp', 'testA_24.bmp', 'testA_18.bmp', 'testA_34_anno.bmp', 'testA_59_anno.bmp', 'testA_28_anno.bmp', 'testA_36_anno.bmp', 'testA_35_anno.bmp', 'testA_22.bmp', 'testA_9_anno.bmp', 'testA_46.bmp', 'testB_9.bmp', 'testA_20_anno.bmp', 'testA_19.bmp', 'testA_40_anno.bmp', 'testB_14.bmp', 'testA_11_anno.bmp', 'testB_20_anno.bmp', 'testA_10.bmp', 'testA_44_anno.bmp', 'testA_10_anno.bmp', 'testB_3.bmp', 'testA_28.bmp', 'testB_4.bmp', 'testB_1_anno.bmp', 'testA_5_anno.bmp', 'testB_16.bmp', 'testA_48.bmp', 'testA_39_anno.bmp', 'testB_4_anno.bmp', 'testA_37.bmp', 'testA_57.bmp', 'testA_25.bmp', 'testB_16_anno.bmp', 'testA_29.bmp', 'testA_27_anno.bmp', 'testA_19_anno.bmp', 'testA_15_anno.bmp', 'testA_32_anno.bmp', 'testA_27.bmp', 'testA_51.bmp', 'testA_8.bmp', 'testA_55_anno.bmp', 'testB_20.bmp', 'testB_2.bmp', 'testB_17.bmp', 'testB_9_anno.bmp', 'testA_36.bmp', 'testA_47.bmp', 'testA_46_anno.bmp', 'testA_60_anno.bmp', 'testA_17.bmp', 'testA_11.bmp', 'testB_14_anno.bmp', 'testA_13.bmp', 'testB_6_anno.bmp', 'testA_33_anno.bmp', 'testA_52_anno.bmp', 'testA_29_anno.bmp', 'testA_6.bmp', 'testA_44.bmp', 'testA_23.bmp', 'testA_13_anno.bmp', 'testA_6_anno.bmp', 'testA_12.bmp', 'testA_57_anno.bmp', 'testA_40.bmp', 'testA_30.bmp', 'testA_16.bmp', 'testA_45.bmp', 'testA_23_anno.bmp', 'testA_22_anno.bmp', 'testA_58_anno.bmp', 'testA_20.bmp', 'testA_2.bmp', 'testB_6.bmp', 'testA_39.bmp', 'testA_41_anno.bmp', 'testA_31_anno.bmp', 'testB_10.bmp', 'testA_41.bmp', 'testA_51_anno.bmp', 'testB_11_anno.bmp', 'testA_50_anno.bmp', 'testA_2_anno.bmp', 'testA_3.bmp', 'testA_43.bmp', 'testB_7.bmp', 'testB_15.bmp', 'testB_17_anno.bmp', 'testA_58.bmp', 'testA_49_anno.bmp', 'testA_14_anno.bmp', 'testA_26_anno.bmp', 'testB_19_anno.bmp', 'testA_49.bmp', 'testA_1.bmp', 'testA_54.bmp', 'testA_25_anno.bmp', 'testA_59.bmp', 'testB_12.bmp', 'testA_50.bmp', 'testA_5.bmp', 'testB_5.bmp', 'testA_56.bmp']\n",
            "['train_15_anno.bmp', 'train_22.bmp', 'train_42.bmp', 'train_69_anno.bmp', 'train_1_anno.bmp', 'train_45_anno.bmp', 'train_2.bmp', 'train_85_anno.bmp', 'train_34_anno.bmp', 'train_11_anno.bmp', 'train_6_anno.bmp', 'train_12_anno.bmp', 'train_19.bmp', 'train_77_anno.bmp', 'train_22_anno.bmp', 'train_29_anno.bmp', 'train_25.bmp', 'train_74.bmp', 'train_54.bmp', 'train_28_anno.bmp', 'train_78_anno.bmp', 'train_33_anno.bmp', 'train_69.bmp', 'train_47.bmp', 'train_77.bmp', 'train_74_anno.bmp', 'train_8_anno.bmp', 'train_35_anno.bmp', 'train_61.bmp', 'train_70.bmp', 'train_79_anno.bmp', 'train_30.bmp', 'train_24.bmp', 'train_21_anno.bmp', 'train_46_anno.bmp', 'train_34.bmp', 'train_19_anno.bmp', 'train_27_anno.bmp', 'train_59_anno.bmp', 'train_55_anno.bmp', 'train_13.bmp', 'train_38_anno.bmp', 'train_76_anno.bmp', 'train_51.bmp', 'train_12.bmp', 'train_26.bmp', 'train_82_anno.bmp', 'train_38.bmp', 'train_51_anno.bmp', 'train_44_anno.bmp', 'train_14_anno.bmp', 'train_58_anno.bmp', 'train_55.bmp', 'train_5_anno.bmp', 'train_13_anno.bmp', 'train_5.bmp', 'train_9_anno.bmp', 'train_65.bmp', 'train_7_anno.bmp', 'train_17.bmp', 'train_50_anno.bmp', 'train_18.bmp', 'train_84.bmp', 'train_70_anno.bmp', 'train_66_anno.bmp', 'train_71.bmp', 'train_33.bmp', 'train_53.bmp', 'train_4_anno.bmp', 'train_52_anno.bmp', 'train_48.bmp', 'train_46.bmp', 'train_83.bmp', 'train_49_anno.bmp', 'train_72_anno.bmp', 'train_2_anno.bmp', 'train_75.bmp', 'train_61_anno.bmp', 'train_64.bmp', 'train_30_anno.bmp', 'train_53_anno.bmp', 'train_54_anno.bmp', 'train_29.bmp', 'train_23.bmp', 'train_68_anno.bmp', 'train_36_anno.bmp', 'train_72.bmp', 'train_67.bmp', 'train_25_anno.bmp', 'train_44.bmp', 'train_63_anno.bmp', 'train_78.bmp', 'train_21.bmp', 'train_37.bmp', 'train_60.bmp', 'train_7.bmp', 'train_80.bmp', 'train_43_anno.bmp', 'train_14.bmp', 'train_10_anno.bmp', 'train_16_anno.bmp', 'train_20_anno.bmp', 'train_65_anno.bmp', 'train_8.bmp', 'train_62.bmp', 'train_40.bmp', 'train_41_anno.bmp', 'train_15.bmp', 'train_31.bmp', 'train_57_anno.bmp', 'train_56_anno.bmp', 'train_84_anno.bmp', 'train_16.bmp', 'train_66.bmp', 'train_81.bmp', 'train_35.bmp', 'train_64_anno.bmp', 'train_63.bmp', 'train_67_anno.bmp', 'train_27.bmp', 'train_37_anno.bmp', 'train_79.bmp', 'train_36.bmp', 'train_85.bmp', 'train_31_anno.bmp', 'train_20.bmp', 'train_3_anno.bmp', 'train_75_anno.bmp', 'train_49.bmp', 'train_56.bmp', 'train_80_anno.bmp', 'train_76.bmp', 'train_24_anno.bmp', 'train_57.bmp', 'train_26_anno.bmp', 'train_81_anno.bmp', 'train_3.bmp', 'train_11.bmp', 'train_39_anno.bmp', 'train_73.bmp', 'train_6.bmp', 'train_23_anno.bmp', 'train_71_anno.bmp', 'train_68.bmp', 'train_52.bmp', 'train_32.bmp', 'train_73_anno.bmp', 'train_18_anno.bmp', 'train_83_anno.bmp', 'train_47_anno.bmp', 'train_50.bmp', 'train_58.bmp', 'train_48_anno.bmp', 'train_28.bmp', 'train_1.bmp', 'train_43.bmp', 'train_42_anno.bmp', 'train_32_anno.bmp', 'train_59.bmp', 'train_40_anno.bmp', 'train_60_anno.bmp', 'train_45.bmp', 'train_82.bmp', 'train_4.bmp', 'train_17_anno.bmp', 'train_10.bmp', 'train_39.bmp', 'train_62_anno.bmp', 'train_41.bmp', 'train_9.bmp']\n"
          ]
        }
      ]
    },
    {
      "cell_type": "code",
      "source": [
        "transform = transforms.Compose([\n",
        "    transforms.Resize((224, 224)),\n",
        "    transforms.Grayscale(num_output_channels=3),\n",
        "    transforms.ToTensor(),\n",
        "    transforms.Normalize(mean=[0.5, 0.5, 0.5], std=[0.5, 0.5, 0.5])\n",
        "])\n",
        "\n",
        "test_data = []\n",
        "for file in test_files:\n",
        "    file_path = os.path.join(data_dir, file)\n",
        "    image = Image.open(file_path)\n",
        "    transformed_image = transform(image)\n",
        "    test_data.append(transformed_image)\n",
        "\n",
        "\n",
        "train_data=[]\n",
        "for file in train_files:\n",
        "  file_path=os.path.join(data_dir,file)\n",
        "  image=Image.open(file_path)\n",
        "  transformed_image=transform(image)\n",
        "  train_data.append(transformed_image)\n",
        "\n",
        "print(test_data[:5])\n",
        "print(train_data[:5])"
      ],
      "metadata": {
        "id": "LiXvEwz6VWI6",
        "colab": {
          "base_uri": "https://localhost:8080/"
        },
        "outputId": "1441dc9e-59c5-487a-8481-52c2a9cff7ab"
      },
      "execution_count": null,
      "outputs": [
        {
          "output_type": "stream",
          "name": "stdout",
          "text": [
            "[tensor([[[-1.0000, -1.0000, -1.0000,  ..., -1.0000, -1.0000, -1.0000],\n",
            "         [-1.0000, -1.0000, -1.0000,  ..., -1.0000, -1.0000, -1.0000],\n",
            "         [-1.0000, -1.0000, -1.0000,  ..., -1.0000, -1.0000, -1.0000],\n",
            "         ...,\n",
            "         [-0.9922, -0.9922, -0.9922,  ..., -0.8667, -0.8667, -0.8667],\n",
            "         [-0.9922, -0.9922, -0.9922,  ..., -0.8667, -0.8667, -0.8667],\n",
            "         [-0.9922, -0.9922, -0.9922,  ..., -0.8667, -0.8667, -0.8667]],\n",
            "\n",
            "        [[-1.0000, -1.0000, -1.0000,  ..., -1.0000, -1.0000, -1.0000],\n",
            "         [-1.0000, -1.0000, -1.0000,  ..., -1.0000, -1.0000, -1.0000],\n",
            "         [-1.0000, -1.0000, -1.0000,  ..., -1.0000, -1.0000, -1.0000],\n",
            "         ...,\n",
            "         [-0.9922, -0.9922, -0.9922,  ..., -0.8667, -0.8667, -0.8667],\n",
            "         [-0.9922, -0.9922, -0.9922,  ..., -0.8667, -0.8667, -0.8667],\n",
            "         [-0.9922, -0.9922, -0.9922,  ..., -0.8667, -0.8667, -0.8667]],\n",
            "\n",
            "        [[-1.0000, -1.0000, -1.0000,  ..., -1.0000, -1.0000, -1.0000],\n",
            "         [-1.0000, -1.0000, -1.0000,  ..., -1.0000, -1.0000, -1.0000],\n",
            "         [-1.0000, -1.0000, -1.0000,  ..., -1.0000, -1.0000, -1.0000],\n",
            "         ...,\n",
            "         [-0.9922, -0.9922, -0.9922,  ..., -0.8667, -0.8667, -0.8667],\n",
            "         [-0.9922, -0.9922, -0.9922,  ..., -0.8667, -0.8667, -0.8667],\n",
            "         [-0.9922, -0.9922, -0.9922,  ..., -0.8667, -0.8667, -0.8667]]]), tensor([[[-0.1843, -0.0667,  0.2157,  ...,  0.4510,  0.3412,  0.3020],\n",
            "         [ 0.1529,  0.2784,  0.3647,  ...,  0.4431,  0.3255,  0.3255],\n",
            "         [ 0.3412,  0.3725,  0.4588,  ...,  0.4588,  0.2941,  0.2706],\n",
            "         ...,\n",
            "         [-0.3098, -0.2078,  0.2235,  ...,  0.0510,  0.1059,  0.0902],\n",
            "         [-0.3882, -0.2941,  0.2000,  ...,  0.0431,  0.0902,  0.0667],\n",
            "         [-0.4275, -0.2000,  0.1765,  ...,  0.0510,  0.0980,  0.0431]],\n",
            "\n",
            "        [[-0.1843, -0.0667,  0.2157,  ...,  0.4510,  0.3412,  0.3020],\n",
            "         [ 0.1529,  0.2784,  0.3647,  ...,  0.4431,  0.3255,  0.3255],\n",
            "         [ 0.3412,  0.3725,  0.4588,  ...,  0.4588,  0.2941,  0.2706],\n",
            "         ...,\n",
            "         [-0.3098, -0.2078,  0.2235,  ...,  0.0510,  0.1059,  0.0902],\n",
            "         [-0.3882, -0.2941,  0.2000,  ...,  0.0431,  0.0902,  0.0667],\n",
            "         [-0.4275, -0.2000,  0.1765,  ...,  0.0510,  0.0980,  0.0431]],\n",
            "\n",
            "        [[-0.1843, -0.0667,  0.2157,  ...,  0.4510,  0.3412,  0.3020],\n",
            "         [ 0.1529,  0.2784,  0.3647,  ...,  0.4431,  0.3255,  0.3255],\n",
            "         [ 0.3412,  0.3725,  0.4588,  ...,  0.4588,  0.2941,  0.2706],\n",
            "         ...,\n",
            "         [-0.3098, -0.2078,  0.2235,  ...,  0.0510,  0.1059,  0.0902],\n",
            "         [-0.3882, -0.2941,  0.2000,  ...,  0.0431,  0.0902,  0.0667],\n",
            "         [-0.4275, -0.2000,  0.1765,  ...,  0.0510,  0.0980,  0.0431]]]), tensor([[[-1.0000, -1.0000, -1.0000,  ..., -0.9843, -0.9843, -0.9843],\n",
            "         [-1.0000, -1.0000, -1.0000,  ..., -0.9843, -0.9843, -0.9843],\n",
            "         [-1.0000, -1.0000, -1.0000,  ..., -0.9843, -0.9843, -0.9843],\n",
            "         ...,\n",
            "         [-1.0000, -1.0000, -1.0000,  ..., -1.0000, -1.0000, -1.0000],\n",
            "         [-1.0000, -1.0000, -1.0000,  ..., -1.0000, -1.0000, -1.0000],\n",
            "         [-1.0000, -1.0000, -1.0000,  ..., -1.0000, -1.0000, -1.0000]],\n",
            "\n",
            "        [[-1.0000, -1.0000, -1.0000,  ..., -0.9843, -0.9843, -0.9843],\n",
            "         [-1.0000, -1.0000, -1.0000,  ..., -0.9843, -0.9843, -0.9843],\n",
            "         [-1.0000, -1.0000, -1.0000,  ..., -0.9843, -0.9843, -0.9843],\n",
            "         ...,\n",
            "         [-1.0000, -1.0000, -1.0000,  ..., -1.0000, -1.0000, -1.0000],\n",
            "         [-1.0000, -1.0000, -1.0000,  ..., -1.0000, -1.0000, -1.0000],\n",
            "         [-1.0000, -1.0000, -1.0000,  ..., -1.0000, -1.0000, -1.0000]],\n",
            "\n",
            "        [[-1.0000, -1.0000, -1.0000,  ..., -0.9843, -0.9843, -0.9843],\n",
            "         [-1.0000, -1.0000, -1.0000,  ..., -0.9843, -0.9843, -0.9843],\n",
            "         [-1.0000, -1.0000, -1.0000,  ..., -0.9843, -0.9843, -0.9843],\n",
            "         ...,\n",
            "         [-1.0000, -1.0000, -1.0000,  ..., -1.0000, -1.0000, -1.0000],\n",
            "         [-1.0000, -1.0000, -1.0000,  ..., -1.0000, -1.0000, -1.0000],\n",
            "         [-1.0000, -1.0000, -1.0000,  ..., -1.0000, -1.0000, -1.0000]]]), tensor([[[ 0.4039, -0.0353, -0.2471,  ...,  0.0353,  0.3020,  0.5059],\n",
            "         [ 0.0588, -0.2627, -0.3569,  ..., -0.2314, -0.3020, -0.2627],\n",
            "         [-0.2549, -0.3725, -0.4118,  ..., -0.3176, -0.4667, -0.4118],\n",
            "         ...,\n",
            "         [ 0.4667,  0.5608,  0.5529,  ...,  0.0980,  0.0588,  0.2157],\n",
            "         [ 0.5137,  0.5529,  0.5137,  ..., -0.1137,  0.0510,  0.2784],\n",
            "         [ 0.4353,  0.5059,  0.5451,  ...,  0.1373,  0.1608,  0.3412]],\n",
            "\n",
            "        [[ 0.4039, -0.0353, -0.2471,  ...,  0.0353,  0.3020,  0.5059],\n",
            "         [ 0.0588, -0.2627, -0.3569,  ..., -0.2314, -0.3020, -0.2627],\n",
            "         [-0.2549, -0.3725, -0.4118,  ..., -0.3176, -0.4667, -0.4118],\n",
            "         ...,\n",
            "         [ 0.4667,  0.5608,  0.5529,  ...,  0.0980,  0.0588,  0.2157],\n",
            "         [ 0.5137,  0.5529,  0.5137,  ..., -0.1137,  0.0510,  0.2784],\n",
            "         [ 0.4353,  0.5059,  0.5451,  ...,  0.1373,  0.1608,  0.3412]],\n",
            "\n",
            "        [[ 0.4039, -0.0353, -0.2471,  ...,  0.0353,  0.3020,  0.5059],\n",
            "         [ 0.0588, -0.2627, -0.3569,  ..., -0.2314, -0.3020, -0.2627],\n",
            "         [-0.2549, -0.3725, -0.4118,  ..., -0.3176, -0.4667, -0.4118],\n",
            "         ...,\n",
            "         [ 0.4667,  0.5608,  0.5529,  ...,  0.0980,  0.0588,  0.2157],\n",
            "         [ 0.5137,  0.5529,  0.5137,  ..., -0.1137,  0.0510,  0.2784],\n",
            "         [ 0.4353,  0.5059,  0.5451,  ...,  0.1373,  0.1608,  0.3412]]]), tensor([[[-0.0980, -0.0118,  0.2627,  ..., -0.1216,  0.0196,  0.1843],\n",
            "         [-0.0745,  0.0667,  0.2706,  ..., -0.2314,  0.0196,  0.1765],\n",
            "         [-0.0118,  0.1843,  0.2863,  ..., -0.1922, -0.0039,  0.1765],\n",
            "         ...,\n",
            "         [ 0.8588,  0.8588,  0.8275,  ...,  0.9216,  0.8824,  0.6784],\n",
            "         [ 0.8353,  0.8980,  0.8275,  ...,  0.9059,  0.8745,  0.6627],\n",
            "         [ 0.5765,  0.7490,  0.7882,  ...,  0.9059,  0.8667,  0.6706]],\n",
            "\n",
            "        [[-0.0980, -0.0118,  0.2627,  ..., -0.1216,  0.0196,  0.1843],\n",
            "         [-0.0745,  0.0667,  0.2706,  ..., -0.2314,  0.0196,  0.1765],\n",
            "         [-0.0118,  0.1843,  0.2863,  ..., -0.1922, -0.0039,  0.1765],\n",
            "         ...,\n",
            "         [ 0.8588,  0.8588,  0.8275,  ...,  0.9216,  0.8824,  0.6784],\n",
            "         [ 0.8353,  0.8980,  0.8275,  ...,  0.9059,  0.8745,  0.6627],\n",
            "         [ 0.5765,  0.7490,  0.7882,  ...,  0.9059,  0.8667,  0.6706]],\n",
            "\n",
            "        [[-0.0980, -0.0118,  0.2627,  ..., -0.1216,  0.0196,  0.1843],\n",
            "         [-0.0745,  0.0667,  0.2706,  ..., -0.2314,  0.0196,  0.1765],\n",
            "         [-0.0118,  0.1843,  0.2863,  ..., -0.1922, -0.0039,  0.1765],\n",
            "         ...,\n",
            "         [ 0.8588,  0.8588,  0.8275,  ...,  0.9216,  0.8824,  0.6784],\n",
            "         [ 0.8353,  0.8980,  0.8275,  ...,  0.9059,  0.8745,  0.6627],\n",
            "         [ 0.5765,  0.7490,  0.7882,  ...,  0.9059,  0.8667,  0.6706]]])]\n",
            "[tensor([[[-1.0000, -1.0000, -1.0000,  ..., -0.9686, -0.9686, -0.9686],\n",
            "         [-1.0000, -1.0000, -1.0000,  ..., -0.9686, -0.9686, -0.9686],\n",
            "         [-1.0000, -1.0000, -1.0000,  ..., -0.9686, -0.9686, -0.9686],\n",
            "         ...,\n",
            "         [-1.0000, -1.0000, -1.0000,  ..., -1.0000, -1.0000, -1.0000],\n",
            "         [-1.0000, -1.0000, -1.0000,  ..., -1.0000, -1.0000, -1.0000],\n",
            "         [-1.0000, -1.0000, -1.0000,  ..., -1.0000, -1.0000, -1.0000]],\n",
            "\n",
            "        [[-1.0000, -1.0000, -1.0000,  ..., -0.9686, -0.9686, -0.9686],\n",
            "         [-1.0000, -1.0000, -1.0000,  ..., -0.9686, -0.9686, -0.9686],\n",
            "         [-1.0000, -1.0000, -1.0000,  ..., -0.9686, -0.9686, -0.9686],\n",
            "         ...,\n",
            "         [-1.0000, -1.0000, -1.0000,  ..., -1.0000, -1.0000, -1.0000],\n",
            "         [-1.0000, -1.0000, -1.0000,  ..., -1.0000, -1.0000, -1.0000],\n",
            "         [-1.0000, -1.0000, -1.0000,  ..., -1.0000, -1.0000, -1.0000]],\n",
            "\n",
            "        [[-1.0000, -1.0000, -1.0000,  ..., -0.9686, -0.9686, -0.9686],\n",
            "         [-1.0000, -1.0000, -1.0000,  ..., -0.9686, -0.9686, -0.9686],\n",
            "         [-1.0000, -1.0000, -1.0000,  ..., -0.9686, -0.9686, -0.9686],\n",
            "         ...,\n",
            "         [-1.0000, -1.0000, -1.0000,  ..., -1.0000, -1.0000, -1.0000],\n",
            "         [-1.0000, -1.0000, -1.0000,  ..., -1.0000, -1.0000, -1.0000],\n",
            "         [-1.0000, -1.0000, -1.0000,  ..., -1.0000, -1.0000, -1.0000]]]), tensor([[[ 0.3647,  0.4667,  0.6000,  ...,  0.3961,  0.1765,  0.2549],\n",
            "         [ 0.2549,  0.4824,  0.5137,  ...,  0.4275,  0.1451,  0.4902],\n",
            "         [-0.0745,  0.1922,  0.4902,  ...,  0.3020,  0.0275,  0.4510],\n",
            "         ...,\n",
            "         [ 0.2471,  0.2235,  0.1059,  ..., -0.1294, -0.0980, -0.1686],\n",
            "         [ 0.3490,  0.3020,  0.1843,  ..., -0.3725, -0.2392, -0.0824],\n",
            "         [ 0.3725,  0.3804,  0.2078,  ..., -0.4824, -0.4196, -0.2078]],\n",
            "\n",
            "        [[ 0.3647,  0.4667,  0.6000,  ...,  0.3961,  0.1765,  0.2549],\n",
            "         [ 0.2549,  0.4824,  0.5137,  ...,  0.4275,  0.1451,  0.4902],\n",
            "         [-0.0745,  0.1922,  0.4902,  ...,  0.3020,  0.0275,  0.4510],\n",
            "         ...,\n",
            "         [ 0.2471,  0.2235,  0.1059,  ..., -0.1294, -0.0980, -0.1686],\n",
            "         [ 0.3490,  0.3020,  0.1843,  ..., -0.3725, -0.2392, -0.0824],\n",
            "         [ 0.3725,  0.3804,  0.2078,  ..., -0.4824, -0.4196, -0.2078]],\n",
            "\n",
            "        [[ 0.3647,  0.4667,  0.6000,  ...,  0.3961,  0.1765,  0.2549],\n",
            "         [ 0.2549,  0.4824,  0.5137,  ...,  0.4275,  0.1451,  0.4902],\n",
            "         [-0.0745,  0.1922,  0.4902,  ...,  0.3020,  0.0275,  0.4510],\n",
            "         ...,\n",
            "         [ 0.2471,  0.2235,  0.1059,  ..., -0.1294, -0.0980, -0.1686],\n",
            "         [ 0.3490,  0.3020,  0.1843,  ..., -0.3725, -0.2392, -0.0824],\n",
            "         [ 0.3725,  0.3804,  0.2078,  ..., -0.4824, -0.4196, -0.2078]]]), tensor([[[-0.0118,  0.3490,  0.4824,  ..., -0.0353,  0.0745,  0.1686],\n",
            "         [ 0.1529,  0.4431,  0.5686,  ..., -0.1059,  0.0667,  0.0588],\n",
            "         [ 0.3882,  0.4980,  0.5451,  ...,  0.0039,  0.0902, -0.0980],\n",
            "         ...,\n",
            "         [-0.0118, -0.2941, -0.3333,  ...,  0.3255,  0.2392,  0.0039],\n",
            "         [ 0.0667, -0.1059, -0.2392,  ...,  0.2941,  0.1843,  0.1137],\n",
            "         [ 0.0745, -0.0275, -0.0588,  ...,  0.3176,  0.2314,  0.2392]],\n",
            "\n",
            "        [[-0.0118,  0.3490,  0.4824,  ..., -0.0353,  0.0745,  0.1686],\n",
            "         [ 0.1529,  0.4431,  0.5686,  ..., -0.1059,  0.0667,  0.0588],\n",
            "         [ 0.3882,  0.4980,  0.5451,  ...,  0.0039,  0.0902, -0.0980],\n",
            "         ...,\n",
            "         [-0.0118, -0.2941, -0.3333,  ...,  0.3255,  0.2392,  0.0039],\n",
            "         [ 0.0667, -0.1059, -0.2392,  ...,  0.2941,  0.1843,  0.1137],\n",
            "         [ 0.0745, -0.0275, -0.0588,  ...,  0.3176,  0.2314,  0.2392]],\n",
            "\n",
            "        [[-0.0118,  0.3490,  0.4824,  ..., -0.0353,  0.0745,  0.1686],\n",
            "         [ 0.1529,  0.4431,  0.5686,  ..., -0.1059,  0.0667,  0.0588],\n",
            "         [ 0.3882,  0.4980,  0.5451,  ...,  0.0039,  0.0902, -0.0980],\n",
            "         ...,\n",
            "         [-0.0118, -0.2941, -0.3333,  ...,  0.3255,  0.2392,  0.0039],\n",
            "         [ 0.0667, -0.1059, -0.2392,  ...,  0.2941,  0.1843,  0.1137],\n",
            "         [ 0.0745, -0.0275, -0.0588,  ...,  0.3176,  0.2314,  0.2392]]]), tensor([[[-1.0000, -1.0000, -1.0000,  ..., -1.0000, -1.0000, -1.0000],\n",
            "         [-1.0000, -1.0000, -1.0000,  ..., -1.0000, -1.0000, -1.0000],\n",
            "         [-1.0000, -1.0000, -1.0000,  ..., -1.0000, -1.0000, -1.0000],\n",
            "         ...,\n",
            "         [-1.0000, -1.0000, -1.0000,  ..., -0.8196, -0.8196, -0.8196],\n",
            "         [-1.0000, -1.0000, -1.0000,  ..., -0.8745, -0.8902, -0.9373],\n",
            "         [-1.0000, -1.0000, -1.0000,  ..., -1.0000, -1.0000, -1.0000]],\n",
            "\n",
            "        [[-1.0000, -1.0000, -1.0000,  ..., -1.0000, -1.0000, -1.0000],\n",
            "         [-1.0000, -1.0000, -1.0000,  ..., -1.0000, -1.0000, -1.0000],\n",
            "         [-1.0000, -1.0000, -1.0000,  ..., -1.0000, -1.0000, -1.0000],\n",
            "         ...,\n",
            "         [-1.0000, -1.0000, -1.0000,  ..., -0.8196, -0.8196, -0.8196],\n",
            "         [-1.0000, -1.0000, -1.0000,  ..., -0.8745, -0.8902, -0.9373],\n",
            "         [-1.0000, -1.0000, -1.0000,  ..., -1.0000, -1.0000, -1.0000]],\n",
            "\n",
            "        [[-1.0000, -1.0000, -1.0000,  ..., -1.0000, -1.0000, -1.0000],\n",
            "         [-1.0000, -1.0000, -1.0000,  ..., -1.0000, -1.0000, -1.0000],\n",
            "         [-1.0000, -1.0000, -1.0000,  ..., -1.0000, -1.0000, -1.0000],\n",
            "         ...,\n",
            "         [-1.0000, -1.0000, -1.0000,  ..., -0.8196, -0.8196, -0.8196],\n",
            "         [-1.0000, -1.0000, -1.0000,  ..., -0.8745, -0.8902, -0.9373],\n",
            "         [-1.0000, -1.0000, -1.0000,  ..., -1.0000, -1.0000, -1.0000]]]), tensor([[[-0.9922, -0.9922, -0.9922,  ..., -1.0000, -1.0000, -1.0000],\n",
            "         [-0.9922, -0.9922, -0.9922,  ..., -1.0000, -1.0000, -1.0000],\n",
            "         [-0.9922, -0.9922, -0.9922,  ..., -1.0000, -1.0000, -1.0000],\n",
            "         ...,\n",
            "         [-0.9765, -0.9765, -0.9765,  ..., -1.0000, -1.0000, -1.0000],\n",
            "         [-0.9765, -0.9765, -0.9765,  ..., -1.0000, -1.0000, -1.0000],\n",
            "         [-0.9765, -0.9765, -0.9765,  ..., -1.0000, -1.0000, -1.0000]],\n",
            "\n",
            "        [[-0.9922, -0.9922, -0.9922,  ..., -1.0000, -1.0000, -1.0000],\n",
            "         [-0.9922, -0.9922, -0.9922,  ..., -1.0000, -1.0000, -1.0000],\n",
            "         [-0.9922, -0.9922, -0.9922,  ..., -1.0000, -1.0000, -1.0000],\n",
            "         ...,\n",
            "         [-0.9765, -0.9765, -0.9765,  ..., -1.0000, -1.0000, -1.0000],\n",
            "         [-0.9765, -0.9765, -0.9765,  ..., -1.0000, -1.0000, -1.0000],\n",
            "         [-0.9765, -0.9765, -0.9765,  ..., -1.0000, -1.0000, -1.0000]],\n",
            "\n",
            "        [[-0.9922, -0.9922, -0.9922,  ..., -1.0000, -1.0000, -1.0000],\n",
            "         [-0.9922, -0.9922, -0.9922,  ..., -1.0000, -1.0000, -1.0000],\n",
            "         [-0.9922, -0.9922, -0.9922,  ..., -1.0000, -1.0000, -1.0000],\n",
            "         ...,\n",
            "         [-0.9765, -0.9765, -0.9765,  ..., -1.0000, -1.0000, -1.0000],\n",
            "         [-0.9765, -0.9765, -0.9765,  ..., -1.0000, -1.0000, -1.0000],\n",
            "         [-0.9765, -0.9765, -0.9765,  ..., -1.0000, -1.0000, -1.0000]]])]\n"
          ]
        }
      ]
    },
    {
      "cell_type": "code",
      "source": [
        "import matplotlib.pyplot as plt\n",
        "%matplotlib inline"
      ],
      "metadata": {
        "id": "jnhtkSynYM9n"
      },
      "execution_count": null,
      "outputs": []
    },
    {
      "cell_type": "code",
      "source": [
        "print(test_data[0])"
      ],
      "metadata": {
        "colab": {
          "base_uri": "https://localhost:8080/"
        },
        "id": "1gqYnXTNX--P",
        "outputId": "16853b07-2f72-49b6-ca65-c5b67720026d"
      },
      "execution_count": null,
      "outputs": [
        {
          "output_type": "stream",
          "name": "stdout",
          "text": [
            "tensor([[[-1.0000, -1.0000, -1.0000,  ..., -1.0000, -1.0000, -1.0000],\n",
            "         [-1.0000, -1.0000, -1.0000,  ..., -1.0000, -1.0000, -1.0000],\n",
            "         [-1.0000, -1.0000, -1.0000,  ..., -1.0000, -1.0000, -1.0000],\n",
            "         ...,\n",
            "         [-0.9922, -0.9922, -0.9922,  ..., -0.8667, -0.8667, -0.8667],\n",
            "         [-0.9922, -0.9922, -0.9922,  ..., -0.8667, -0.8667, -0.8667],\n",
            "         [-0.9922, -0.9922, -0.9922,  ..., -0.8667, -0.8667, -0.8667]],\n",
            "\n",
            "        [[-1.0000, -1.0000, -1.0000,  ..., -1.0000, -1.0000, -1.0000],\n",
            "         [-1.0000, -1.0000, -1.0000,  ..., -1.0000, -1.0000, -1.0000],\n",
            "         [-1.0000, -1.0000, -1.0000,  ..., -1.0000, -1.0000, -1.0000],\n",
            "         ...,\n",
            "         [-0.9922, -0.9922, -0.9922,  ..., -0.8667, -0.8667, -0.8667],\n",
            "         [-0.9922, -0.9922, -0.9922,  ..., -0.8667, -0.8667, -0.8667],\n",
            "         [-0.9922, -0.9922, -0.9922,  ..., -0.8667, -0.8667, -0.8667]],\n",
            "\n",
            "        [[-1.0000, -1.0000, -1.0000,  ..., -1.0000, -1.0000, -1.0000],\n",
            "         [-1.0000, -1.0000, -1.0000,  ..., -1.0000, -1.0000, -1.0000],\n",
            "         [-1.0000, -1.0000, -1.0000,  ..., -1.0000, -1.0000, -1.0000],\n",
            "         ...,\n",
            "         [-0.9922, -0.9922, -0.9922,  ..., -0.8667, -0.8667, -0.8667],\n",
            "         [-0.9922, -0.9922, -0.9922,  ..., -0.8667, -0.8667, -0.8667],\n",
            "         [-0.9922, -0.9922, -0.9922,  ..., -0.8667, -0.8667, -0.8667]]])\n"
          ]
        }
      ]
    },
    {
      "cell_type": "code",
      "source": [
        "print(test_data[0].shape)"
      ],
      "metadata": {
        "colab": {
          "base_uri": "https://localhost:8080/"
        },
        "id": "hL2QodDlZJ1s",
        "outputId": "54151137-fff0-44da-c2c7-32599577ba29"
      },
      "execution_count": null,
      "outputs": [
        {
          "output_type": "stream",
          "name": "stdout",
          "text": [
            "torch.Size([3, 224, 224])\n"
          ]
        }
      ]
    },
    {
      "cell_type": "code",
      "source": [
        "plt.imshow(test_data[0][0,10:15,10:15], cmap='red');"
      ],
      "metadata": {
        "colab": {
          "base_uri": "https://localhost:8080/",
          "height": 868
        },
        "id": "SHD3pkPFZQ17",
        "outputId": "c515fee9-7380-4cc2-c2ca-597d057765ff"
      },
      "execution_count": null,
      "outputs": [
        {
          "output_type": "error",
          "ename": "ValueError",
          "evalue": "ignored",
          "traceback": [
            "\u001b[0;31m---------------------------------------------------------------------------\u001b[0m",
            "\u001b[0;31mValueError\u001b[0m                                Traceback (most recent call last)",
            "\u001b[0;32m<ipython-input-11-de8ea4111d05>\u001b[0m in \u001b[0;36m<cell line: 1>\u001b[0;34m()\u001b[0m\n\u001b[0;32m----> 1\u001b[0;31m \u001b[0mplt\u001b[0m\u001b[0;34m.\u001b[0m\u001b[0mimshow\u001b[0m\u001b[0;34m(\u001b[0m\u001b[0mtest_data\u001b[0m\u001b[0;34m[\u001b[0m\u001b[0;36m0\u001b[0m\u001b[0;34m]\u001b[0m\u001b[0;34m[\u001b[0m\u001b[0;36m0\u001b[0m\u001b[0;34m,\u001b[0m\u001b[0;36m10\u001b[0m\u001b[0;34m:\u001b[0m\u001b[0;36m15\u001b[0m\u001b[0;34m,\u001b[0m\u001b[0;36m10\u001b[0m\u001b[0;34m:\u001b[0m\u001b[0;36m15\u001b[0m\u001b[0;34m]\u001b[0m\u001b[0;34m,\u001b[0m \u001b[0mcmap\u001b[0m\u001b[0;34m=\u001b[0m\u001b[0;34m'red'\u001b[0m\u001b[0;34m)\u001b[0m\u001b[0;34m;\u001b[0m\u001b[0;34m\u001b[0m\u001b[0;34m\u001b[0m\u001b[0m\n\u001b[0m",
            "\u001b[0;32m/usr/local/lib/python3.10/dist-packages/matplotlib/pyplot.py\u001b[0m in \u001b[0;36mimshow\u001b[0;34m(X, cmap, norm, aspect, interpolation, alpha, vmin, vmax, origin, extent, interpolation_stage, filternorm, filterrad, resample, url, data, **kwargs)\u001b[0m\n\u001b[1;32m   2693\u001b[0m         \u001b[0minterpolation_stage\u001b[0m\u001b[0;34m=\u001b[0m\u001b[0;32mNone\u001b[0m\u001b[0;34m,\u001b[0m \u001b[0mfilternorm\u001b[0m\u001b[0;34m=\u001b[0m\u001b[0;32mTrue\u001b[0m\u001b[0;34m,\u001b[0m \u001b[0mfilterrad\u001b[0m\u001b[0;34m=\u001b[0m\u001b[0;36m4.0\u001b[0m\u001b[0;34m,\u001b[0m\u001b[0;34m\u001b[0m\u001b[0;34m\u001b[0m\u001b[0m\n\u001b[1;32m   2694\u001b[0m         resample=None, url=None, data=None, **kwargs):\n\u001b[0;32m-> 2695\u001b[0;31m     __ret = gca().imshow(\n\u001b[0m\u001b[1;32m   2696\u001b[0m         \u001b[0mX\u001b[0m\u001b[0;34m,\u001b[0m \u001b[0mcmap\u001b[0m\u001b[0;34m=\u001b[0m\u001b[0mcmap\u001b[0m\u001b[0;34m,\u001b[0m \u001b[0mnorm\u001b[0m\u001b[0;34m=\u001b[0m\u001b[0mnorm\u001b[0m\u001b[0;34m,\u001b[0m \u001b[0maspect\u001b[0m\u001b[0;34m=\u001b[0m\u001b[0maspect\u001b[0m\u001b[0;34m,\u001b[0m\u001b[0;34m\u001b[0m\u001b[0;34m\u001b[0m\u001b[0m\n\u001b[1;32m   2697\u001b[0m         \u001b[0minterpolation\u001b[0m\u001b[0;34m=\u001b[0m\u001b[0minterpolation\u001b[0m\u001b[0;34m,\u001b[0m \u001b[0malpha\u001b[0m\u001b[0;34m=\u001b[0m\u001b[0malpha\u001b[0m\u001b[0;34m,\u001b[0m \u001b[0mvmin\u001b[0m\u001b[0;34m=\u001b[0m\u001b[0mvmin\u001b[0m\u001b[0;34m,\u001b[0m\u001b[0;34m\u001b[0m\u001b[0;34m\u001b[0m\u001b[0m\n",
            "\u001b[0;32m/usr/local/lib/python3.10/dist-packages/matplotlib/__init__.py\u001b[0m in \u001b[0;36minner\u001b[0;34m(ax, data, *args, **kwargs)\u001b[0m\n\u001b[1;32m   1440\u001b[0m     \u001b[0;32mdef\u001b[0m \u001b[0minner\u001b[0m\u001b[0;34m(\u001b[0m\u001b[0max\u001b[0m\u001b[0;34m,\u001b[0m \u001b[0;34m*\u001b[0m\u001b[0margs\u001b[0m\u001b[0;34m,\u001b[0m \u001b[0mdata\u001b[0m\u001b[0;34m=\u001b[0m\u001b[0;32mNone\u001b[0m\u001b[0;34m,\u001b[0m \u001b[0;34m**\u001b[0m\u001b[0mkwargs\u001b[0m\u001b[0;34m)\u001b[0m\u001b[0;34m:\u001b[0m\u001b[0;34m\u001b[0m\u001b[0;34m\u001b[0m\u001b[0m\n\u001b[1;32m   1441\u001b[0m         \u001b[0;32mif\u001b[0m \u001b[0mdata\u001b[0m \u001b[0;32mis\u001b[0m \u001b[0;32mNone\u001b[0m\u001b[0;34m:\u001b[0m\u001b[0;34m\u001b[0m\u001b[0;34m\u001b[0m\u001b[0m\n\u001b[0;32m-> 1442\u001b[0;31m             \u001b[0;32mreturn\u001b[0m \u001b[0mfunc\u001b[0m\u001b[0;34m(\u001b[0m\u001b[0max\u001b[0m\u001b[0;34m,\u001b[0m \u001b[0;34m*\u001b[0m\u001b[0mmap\u001b[0m\u001b[0;34m(\u001b[0m\u001b[0msanitize_sequence\u001b[0m\u001b[0;34m,\u001b[0m \u001b[0margs\u001b[0m\u001b[0;34m)\u001b[0m\u001b[0;34m,\u001b[0m \u001b[0;34m**\u001b[0m\u001b[0mkwargs\u001b[0m\u001b[0;34m)\u001b[0m\u001b[0;34m\u001b[0m\u001b[0;34m\u001b[0m\u001b[0m\n\u001b[0m\u001b[1;32m   1443\u001b[0m \u001b[0;34m\u001b[0m\u001b[0m\n\u001b[1;32m   1444\u001b[0m         \u001b[0mbound\u001b[0m \u001b[0;34m=\u001b[0m \u001b[0mnew_sig\u001b[0m\u001b[0;34m.\u001b[0m\u001b[0mbind\u001b[0m\u001b[0;34m(\u001b[0m\u001b[0max\u001b[0m\u001b[0;34m,\u001b[0m \u001b[0;34m*\u001b[0m\u001b[0margs\u001b[0m\u001b[0;34m,\u001b[0m \u001b[0;34m**\u001b[0m\u001b[0mkwargs\u001b[0m\u001b[0;34m)\u001b[0m\u001b[0;34m\u001b[0m\u001b[0;34m\u001b[0m\u001b[0m\n",
            "\u001b[0;32m/usr/local/lib/python3.10/dist-packages/matplotlib/axes/_axes.py\u001b[0m in \u001b[0;36mimshow\u001b[0;34m(self, X, cmap, norm, aspect, interpolation, alpha, vmin, vmax, origin, extent, interpolation_stage, filternorm, filterrad, resample, url, **kwargs)\u001b[0m\n\u001b[1;32m   5656\u001b[0m             \u001b[0maspect\u001b[0m \u001b[0;34m=\u001b[0m \u001b[0mmpl\u001b[0m\u001b[0;34m.\u001b[0m\u001b[0mrcParams\u001b[0m\u001b[0;34m[\u001b[0m\u001b[0;34m'image.aspect'\u001b[0m\u001b[0;34m]\u001b[0m\u001b[0;34m\u001b[0m\u001b[0;34m\u001b[0m\u001b[0m\n\u001b[1;32m   5657\u001b[0m         \u001b[0mself\u001b[0m\u001b[0;34m.\u001b[0m\u001b[0mset_aspect\u001b[0m\u001b[0;34m(\u001b[0m\u001b[0maspect\u001b[0m\u001b[0;34m)\u001b[0m\u001b[0;34m\u001b[0m\u001b[0;34m\u001b[0m\u001b[0m\n\u001b[0;32m-> 5658\u001b[0;31m         im = mimage.AxesImage(self, cmap=cmap, norm=norm,\n\u001b[0m\u001b[1;32m   5659\u001b[0m                               \u001b[0minterpolation\u001b[0m\u001b[0;34m=\u001b[0m\u001b[0minterpolation\u001b[0m\u001b[0;34m,\u001b[0m \u001b[0morigin\u001b[0m\u001b[0;34m=\u001b[0m\u001b[0morigin\u001b[0m\u001b[0;34m,\u001b[0m\u001b[0;34m\u001b[0m\u001b[0;34m\u001b[0m\u001b[0m\n\u001b[1;32m   5660\u001b[0m                               \u001b[0mextent\u001b[0m\u001b[0;34m=\u001b[0m\u001b[0mextent\u001b[0m\u001b[0;34m,\u001b[0m \u001b[0mfilternorm\u001b[0m\u001b[0;34m=\u001b[0m\u001b[0mfilternorm\u001b[0m\u001b[0;34m,\u001b[0m\u001b[0;34m\u001b[0m\u001b[0;34m\u001b[0m\u001b[0m\n",
            "\u001b[0;32m/usr/local/lib/python3.10/dist-packages/matplotlib/_api/deprecation.py\u001b[0m in \u001b[0;36mwrapper\u001b[0;34m(*args, **kwargs)\u001b[0m\n\u001b[1;32m    452\u001b[0m                 \u001b[0;34m\"parameter will become keyword-only %(removal)s.\"\u001b[0m\u001b[0;34m,\u001b[0m\u001b[0;34m\u001b[0m\u001b[0;34m\u001b[0m\u001b[0m\n\u001b[1;32m    453\u001b[0m                 name=name, obj_type=f\"parameter of {func.__name__}()\")\n\u001b[0;32m--> 454\u001b[0;31m         \u001b[0;32mreturn\u001b[0m \u001b[0mfunc\u001b[0m\u001b[0;34m(\u001b[0m\u001b[0;34m*\u001b[0m\u001b[0margs\u001b[0m\u001b[0;34m,\u001b[0m \u001b[0;34m**\u001b[0m\u001b[0mkwargs\u001b[0m\u001b[0;34m)\u001b[0m\u001b[0;34m\u001b[0m\u001b[0;34m\u001b[0m\u001b[0m\n\u001b[0m\u001b[1;32m    455\u001b[0m \u001b[0;34m\u001b[0m\u001b[0m\n\u001b[1;32m    456\u001b[0m     \u001b[0;31m# Don't modify *func*'s signature, as boilerplate.py needs it.\u001b[0m\u001b[0;34m\u001b[0m\u001b[0;34m\u001b[0m\u001b[0m\n",
            "\u001b[0;32m/usr/local/lib/python3.10/dist-packages/matplotlib/image.py\u001b[0m in \u001b[0;36m__init__\u001b[0;34m(self, ax, cmap, norm, interpolation, origin, extent, filternorm, filterrad, resample, interpolation_stage, **kwargs)\u001b[0m\n\u001b[1;32m    920\u001b[0m         \u001b[0mself\u001b[0m\u001b[0;34m.\u001b[0m\u001b[0m_extent\u001b[0m \u001b[0;34m=\u001b[0m \u001b[0mextent\u001b[0m\u001b[0;34m\u001b[0m\u001b[0;34m\u001b[0m\u001b[0m\n\u001b[1;32m    921\u001b[0m \u001b[0;34m\u001b[0m\u001b[0m\n\u001b[0;32m--> 922\u001b[0;31m         super().__init__(\n\u001b[0m\u001b[1;32m    923\u001b[0m             \u001b[0max\u001b[0m\u001b[0;34m,\u001b[0m\u001b[0;34m\u001b[0m\u001b[0;34m\u001b[0m\u001b[0m\n\u001b[1;32m    924\u001b[0m             \u001b[0mcmap\u001b[0m\u001b[0;34m=\u001b[0m\u001b[0mcmap\u001b[0m\u001b[0;34m,\u001b[0m\u001b[0;34m\u001b[0m\u001b[0;34m\u001b[0m\u001b[0m\n",
            "\u001b[0;32m/usr/local/lib/python3.10/dist-packages/matplotlib/image.py\u001b[0m in \u001b[0;36m__init__\u001b[0;34m(self, ax, cmap, norm, interpolation, origin, filternorm, filterrad, resample, interpolation_stage, **kwargs)\u001b[0m\n\u001b[1;32m    258\u001b[0m                  ):\n\u001b[1;32m    259\u001b[0m         \u001b[0mmartist\u001b[0m\u001b[0;34m.\u001b[0m\u001b[0mArtist\u001b[0m\u001b[0;34m.\u001b[0m\u001b[0m__init__\u001b[0m\u001b[0;34m(\u001b[0m\u001b[0mself\u001b[0m\u001b[0;34m)\u001b[0m\u001b[0;34m\u001b[0m\u001b[0;34m\u001b[0m\u001b[0m\n\u001b[0;32m--> 260\u001b[0;31m         \u001b[0mcm\u001b[0m\u001b[0;34m.\u001b[0m\u001b[0mScalarMappable\u001b[0m\u001b[0;34m.\u001b[0m\u001b[0m__init__\u001b[0m\u001b[0;34m(\u001b[0m\u001b[0mself\u001b[0m\u001b[0;34m,\u001b[0m \u001b[0mnorm\u001b[0m\u001b[0;34m,\u001b[0m \u001b[0mcmap\u001b[0m\u001b[0;34m)\u001b[0m\u001b[0;34m\u001b[0m\u001b[0;34m\u001b[0m\u001b[0m\n\u001b[0m\u001b[1;32m    261\u001b[0m         \u001b[0;32mif\u001b[0m \u001b[0morigin\u001b[0m \u001b[0;32mis\u001b[0m \u001b[0;32mNone\u001b[0m\u001b[0;34m:\u001b[0m\u001b[0;34m\u001b[0m\u001b[0;34m\u001b[0m\u001b[0m\n\u001b[1;32m    262\u001b[0m             \u001b[0morigin\u001b[0m \u001b[0;34m=\u001b[0m \u001b[0mmpl\u001b[0m\u001b[0;34m.\u001b[0m\u001b[0mrcParams\u001b[0m\u001b[0;34m[\u001b[0m\u001b[0;34m'image.origin'\u001b[0m\u001b[0;34m]\u001b[0m\u001b[0;34m\u001b[0m\u001b[0;34m\u001b[0m\u001b[0m\n",
            "\u001b[0;32m/usr/local/lib/python3.10/dist-packages/matplotlib/cm.py\u001b[0m in \u001b[0;36m__init__\u001b[0;34m(self, norm, cmap)\u001b[0m\n\u001b[1;32m    398\u001b[0m         \u001b[0mself\u001b[0m\u001b[0;34m.\u001b[0m\u001b[0mset_norm\u001b[0m\u001b[0;34m(\u001b[0m\u001b[0mnorm\u001b[0m\u001b[0;34m)\u001b[0m  \u001b[0;31m# The Normalize instance of this ScalarMappable.\u001b[0m\u001b[0;34m\u001b[0m\u001b[0;34m\u001b[0m\u001b[0m\n\u001b[1;32m    399\u001b[0m         \u001b[0mself\u001b[0m\u001b[0;34m.\u001b[0m\u001b[0mcmap\u001b[0m \u001b[0;34m=\u001b[0m \u001b[0;32mNone\u001b[0m  \u001b[0;31m# So that the setter knows we're initializing.\u001b[0m\u001b[0;34m\u001b[0m\u001b[0;34m\u001b[0m\u001b[0m\n\u001b[0;32m--> 400\u001b[0;31m         \u001b[0mself\u001b[0m\u001b[0;34m.\u001b[0m\u001b[0mset_cmap\u001b[0m\u001b[0;34m(\u001b[0m\u001b[0mcmap\u001b[0m\u001b[0;34m)\u001b[0m  \u001b[0;31m# The Colormap instance of this ScalarMappable.\u001b[0m\u001b[0;34m\u001b[0m\u001b[0;34m\u001b[0m\u001b[0m\n\u001b[0m\u001b[1;32m    401\u001b[0m         \u001b[0;31m#: The last colorbar associated with this ScalarMappable. May be None.\u001b[0m\u001b[0;34m\u001b[0m\u001b[0;34m\u001b[0m\u001b[0m\n\u001b[1;32m    402\u001b[0m         \u001b[0mself\u001b[0m\u001b[0;34m.\u001b[0m\u001b[0mcolorbar\u001b[0m \u001b[0;34m=\u001b[0m \u001b[0;32mNone\u001b[0m\u001b[0;34m\u001b[0m\u001b[0;34m\u001b[0m\u001b[0m\n",
            "\u001b[0;32m/usr/local/lib/python3.10/dist-packages/matplotlib/cm.py\u001b[0m in \u001b[0;36mset_cmap\u001b[0;34m(self, cmap)\u001b[0m\n\u001b[1;32m    583\u001b[0m         \u001b[0min_init\u001b[0m \u001b[0;34m=\u001b[0m \u001b[0mself\u001b[0m\u001b[0;34m.\u001b[0m\u001b[0mcmap\u001b[0m \u001b[0;32mis\u001b[0m \u001b[0;32mNone\u001b[0m\u001b[0;34m\u001b[0m\u001b[0;34m\u001b[0m\u001b[0m\n\u001b[1;32m    584\u001b[0m \u001b[0;34m\u001b[0m\u001b[0m\n\u001b[0;32m--> 585\u001b[0;31m         \u001b[0mself\u001b[0m\u001b[0;34m.\u001b[0m\u001b[0mcmap\u001b[0m \u001b[0;34m=\u001b[0m \u001b[0m_ensure_cmap\u001b[0m\u001b[0;34m(\u001b[0m\u001b[0mcmap\u001b[0m\u001b[0;34m)\u001b[0m\u001b[0;34m\u001b[0m\u001b[0;34m\u001b[0m\u001b[0m\n\u001b[0m\u001b[1;32m    586\u001b[0m         \u001b[0;32mif\u001b[0m \u001b[0;32mnot\u001b[0m \u001b[0min_init\u001b[0m\u001b[0;34m:\u001b[0m\u001b[0;34m\u001b[0m\u001b[0;34m\u001b[0m\u001b[0m\n\u001b[1;32m    587\u001b[0m             \u001b[0mself\u001b[0m\u001b[0;34m.\u001b[0m\u001b[0mchanged\u001b[0m\u001b[0;34m(\u001b[0m\u001b[0;34m)\u001b[0m  \u001b[0;31m# Things are not set up properly yet.\u001b[0m\u001b[0;34m\u001b[0m\u001b[0;34m\u001b[0m\u001b[0m\n",
            "\u001b[0;32m/usr/local/lib/python3.10/dist-packages/matplotlib/cm.py\u001b[0m in \u001b[0;36m_ensure_cmap\u001b[0;34m(cmap)\u001b[0m\n\u001b[1;32m    721\u001b[0m     \u001b[0;31m# use check_in_list to ensure type stability of the exception raised by\u001b[0m\u001b[0;34m\u001b[0m\u001b[0;34m\u001b[0m\u001b[0m\n\u001b[1;32m    722\u001b[0m     \u001b[0;31m# the internal usage of this (ValueError vs KeyError)\u001b[0m\u001b[0;34m\u001b[0m\u001b[0;34m\u001b[0m\u001b[0m\n\u001b[0;32m--> 723\u001b[0;31m     \u001b[0m_api\u001b[0m\u001b[0;34m.\u001b[0m\u001b[0mcheck_in_list\u001b[0m\u001b[0;34m(\u001b[0m\u001b[0msorted\u001b[0m\u001b[0;34m(\u001b[0m\u001b[0m_colormaps\u001b[0m\u001b[0;34m)\u001b[0m\u001b[0;34m,\u001b[0m \u001b[0mcmap\u001b[0m\u001b[0;34m=\u001b[0m\u001b[0mcmap_name\u001b[0m\u001b[0;34m)\u001b[0m\u001b[0;34m\u001b[0m\u001b[0;34m\u001b[0m\u001b[0m\n\u001b[0m\u001b[1;32m    724\u001b[0m     \u001b[0;32mreturn\u001b[0m \u001b[0mmpl\u001b[0m\u001b[0;34m.\u001b[0m\u001b[0mcolormaps\u001b[0m\u001b[0;34m[\u001b[0m\u001b[0mcmap_name\u001b[0m\u001b[0;34m]\u001b[0m\u001b[0;34m\u001b[0m\u001b[0;34m\u001b[0m\u001b[0m\n",
            "\u001b[0;32m/usr/local/lib/python3.10/dist-packages/matplotlib/_api/__init__.py\u001b[0m in \u001b[0;36mcheck_in_list\u001b[0;34m(_values, _print_supported_values, **kwargs)\u001b[0m\n\u001b[1;32m    129\u001b[0m             \u001b[0;32mif\u001b[0m \u001b[0m_print_supported_values\u001b[0m\u001b[0;34m:\u001b[0m\u001b[0;34m\u001b[0m\u001b[0;34m\u001b[0m\u001b[0m\n\u001b[1;32m    130\u001b[0m                 \u001b[0mmsg\u001b[0m \u001b[0;34m+=\u001b[0m \u001b[0;34mf\"; supported values are {', '.join(map(repr, values))}\"\u001b[0m\u001b[0;34m\u001b[0m\u001b[0;34m\u001b[0m\u001b[0m\n\u001b[0;32m--> 131\u001b[0;31m             \u001b[0;32mraise\u001b[0m \u001b[0mValueError\u001b[0m\u001b[0;34m(\u001b[0m\u001b[0mmsg\u001b[0m\u001b[0;34m)\u001b[0m\u001b[0;34m\u001b[0m\u001b[0;34m\u001b[0m\u001b[0m\n\u001b[0m\u001b[1;32m    132\u001b[0m \u001b[0;34m\u001b[0m\u001b[0m\n\u001b[1;32m    133\u001b[0m \u001b[0;34m\u001b[0m\u001b[0m\n",
            "\u001b[0;31mValueError\u001b[0m: 'red' is not a valid value for cmap; supported values are 'Accent', 'Accent_r', 'Blues', 'Blues_r', 'BrBG', 'BrBG_r', 'BuGn', 'BuGn_r', 'BuPu', 'BuPu_r', 'CMRmap', 'CMRmap_r', 'Dark2', 'Dark2_r', 'GnBu', 'GnBu_r', 'Greens', 'Greens_r', 'Greys', 'Greys_r', 'OrRd', 'OrRd_r', 'Oranges', 'Oranges_r', 'PRGn', 'PRGn_r', 'Paired', 'Paired_r', 'Pastel1', 'Pastel1_r', 'Pastel2', 'Pastel2_r', 'PiYG', 'PiYG_r', 'PuBu', 'PuBuGn', 'PuBuGn_r', 'PuBu_r', 'PuOr', 'PuOr_r', 'PuRd', 'PuRd_r', 'Purples', 'Purples_r', 'RdBu', 'RdBu_r', 'RdGy', 'RdGy_r', 'RdPu', 'RdPu_r', 'RdYlBu', 'RdYlBu_r', 'RdYlGn', 'RdYlGn_r', 'Reds', 'Reds_r', 'Set1', 'Set1_r', 'Set2', 'Set2_r', 'Set3', 'Set3_r', 'Spectral', 'Spectral_r', 'Wistia', 'Wistia_r', 'YlGn', 'YlGnBu', 'YlGnBu_r', 'YlGn_r', 'YlOrBr', 'YlOrBr_r', 'YlOrRd', 'YlOrRd_r', 'afmhot', 'afmhot_r', 'autumn', 'autumn_r', 'binary', 'binary_r', 'bone', 'bone_r', 'brg', 'brg_r', 'bwr', 'bwr_r', 'cividis', 'cividis_r', 'cool', 'cool_r', 'coolwarm', 'coolwarm_r', 'copper', 'copper_r', 'cubehelix', 'cubehelix_r', 'flag', 'flag_r', 'gist_earth', 'gist_earth_r', 'gist_gray', 'gist_gray_r', 'gist_heat', 'gist_heat_r', 'gist_ncar', 'gist_ncar_r', 'gist_rainbow', 'gist_rainbow_r', 'gist_stern', 'gist_stern_r', 'gist_yarg', 'gist_yarg_r', 'gnuplot', 'gnuplot2', 'gnuplot2_r', 'gnuplot_r', 'gray', 'gray_r', 'hot', 'hot_r', 'hsv', 'hsv_r', 'inferno', 'inferno_r', 'jet', 'jet_r', 'magma', 'magma_r', 'nipy_spectral', 'nipy_spectral_r', 'ocean', 'ocea..."
          ]
        },
        {
          "output_type": "display_data",
          "data": {
            "text/plain": [
              "<Figure size 640x480 with 1 Axes>"
            ],
            "image/png": "[encoded data removed]"
          },
          "metadata": {}
        }
      ]
    },
    {
      "cell_type": "code",
      "source": [
        "plt.imshow(test_data[0][1,:100,:100], cmap='Accent');"
      ],
      "metadata": {
        "colab": {
          "base_uri": "https://localhost:8080/",
          "height": 433
        },
        "id": "dZFbGx4yZuij",
        "outputId": "3e293afa-6da5-4e1f-a90b-f46994a59fcf"
      },
      "execution_count": null,
      "outputs": [
        {
          "output_type": "display_data",
          "data": {
            "text/plain": [
              "<Figure size 640x480 with 1 Axes>"
            ],
            "image/png": "[encoded data removed]"
          },
          "metadata": {}
        }
      ]
    },
    {
      "cell_type": "code",
      "source": [],
      "metadata": {
        "id": "DGqLS0-KZ956"
      },
      "execution_count": null,
      "outputs": []
    }
  ]
}